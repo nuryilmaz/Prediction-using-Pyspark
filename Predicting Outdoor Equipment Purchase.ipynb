{
    "cells": [
        {
            "cell_type": "markdown", 
            "source": "## Load Data", 
            "metadata": {}
        }, 
        {
            "cell_type": "code", 
            "source": "!pip install wget --user", 
            "execution_count": 2, 
            "metadata": {}, 
            "outputs": [
                {
                    "output_type": "stream", 
                    "text": "Requirement already satisfied: wget in /gpfs/global_fs01/cluster/yp-spark-lon02-env5-0101.bluemix.net/user/s9d7-1f99e5d3dd0b2e-7c35b1b062e8/.local/lib/python2.7/site-packages\r\n", 
                    "name": "stdout"
                }
            ]
        }, 
        {
            "cell_type": "code", 
            "source": "import wget\n\nmy_data = 'https://apsportal.ibm.com/exchange-api/v1/entries/8044492073eb964f46597b4be06ff5ea/data?accessKey=9561295fa407698694b1e254d0099600'\ndata_name = wget.download(my_data)\n\nprint data_name", 
            "execution_count": 3, 
            "metadata": {}, 
            "outputs": [
                {
                    "output_type": "stream", 
                    "text": "GoSales_Tx_NaiveBayes (2).csv\n", 
                    "name": "stdout"
                }
            ]
        }, 
        {
            "cell_type": "markdown", 
            "source": "### Load The Apache Spark Dataframe\n", 
            "metadata": {}
        }, 
        {
            "cell_type": "code", 
            "source": "spark = SparkSession.builder.getOrCreate()\n\ndf_data = spark.read\\\n  .format('org.apache.spark.sql.execution.datasources.csv.CSVFileFormat')\\\n  .option('header', 'true')\\\n  .option('inferSchema', 'true')\\\n  .load(data_name)\n", 
            "execution_count": 4, 
            "metadata": {}, 
            "outputs": []
        }, 
        {
            "cell_type": "code", 
            "source": "### Data Exploration", 
            "execution_count": 5, 
            "metadata": {}, 
            "outputs": []
        }, 
        {
            "cell_type": "code", 
            "source": "df_data.printSchema() #shows columns and their data types", 
            "execution_count": 6, 
            "metadata": {}, 
            "outputs": [
                {
                    "output_type": "stream", 
                    "text": "root\n |-- PRODUCT_LINE: string (nullable = true)\n |-- GENDER: string (nullable = true)\n |-- AGE: integer (nullable = true)\n |-- MARITAL_STATUS: string (nullable = true)\n |-- PROFESSION: string (nullable = true)\n\n", 
                    "name": "stdout"
                }
            ]
        }, 
        {
            "cell_type": "code", 
            "source": "df_data.show() #shows the first 20 lines of data", 
            "execution_count": 7, 
            "metadata": {}, 
            "outputs": [
                {
                    "output_type": "stream", 
                    "text": "+--------------------+------+---+--------------+------------+\n|        PRODUCT_LINE|GENDER|AGE|MARITAL_STATUS|  PROFESSION|\n+--------------------+------+---+--------------+------------+\n|Personal Accessories|     M| 27|        Single|Professional|\n|Personal Accessories|     F| 39|       Married|       Other|\n|Mountaineering Eq...|     F| 39|       Married|       Other|\n|Personal Accessories|     F| 56|   Unspecified| Hospitality|\n|      Golf Equipment|     M| 45|       Married|     Retired|\n|      Golf Equipment|     M| 45|       Married|     Retired|\n|   Camping Equipment|     F| 39|       Married|       Other|\n|   Camping Equipment|     F| 49|       Married|       Other|\n|  Outdoor Protection|     F| 49|       Married|       Other|\n|      Golf Equipment|     M| 47|       Married|     Retired|\n|      Golf Equipment|     M| 47|       Married|     Retired|\n|Mountaineering Eq...|     M| 21|        Single|      Retail|\n|Personal Accessories|     F| 66|       Married|       Other|\n|   Camping Equipment|     F| 35|       Married|Professional|\n|Mountaineering Eq...|     M| 20|        Single|       Sales|\n|Mountaineering Eq...|     M| 20|        Single|       Sales|\n|Mountaineering Eq...|     M| 20|        Single|       Sales|\n|Personal Accessories|     F| 37|        Single|       Other|\n|   Camping Equipment|     M| 42|       Married|       Other|\n|   Camping Equipment|     F| 24|       Married|      Retail|\n+--------------------+------+---+--------------+------------+\nonly showing top 20 rows\n\n", 
                    "name": "stdout"
                }
            ]
        }, 
        {
            "cell_type": "markdown", 
            "source": "### ML Model", 
            "metadata": {}
        }, 
        {
            "cell_type": "code", 
            "source": "splitted_data = df_data.randomSplit([0.7, 0.27, 0.03], 24)\ntrain_data = splitted_data[0]\ntest_data = splitted_data[1]\npredict_data = splitted_data[2]\n", 
            "execution_count": 8, 
            "metadata": {}, 
            "outputs": []
        }, 
        {
            "cell_type": "code", 
            "source": "print \"Number of training records: \" + str(train_data.count())\nprint \"Number of testing records : \" + str(test_data.count())\nprint \"Number of prediction records : \" + str(predict_data.count())", 
            "execution_count": 9, 
            "metadata": {}, 
            "outputs": [
                {
                    "output_type": "stream", 
                    "text": "Number of training records: 42124\nNumber of testing records : 16307\nNumber of prediction records : 1821\n", 
                    "name": "stdout"
                }
            ]
        }, 
        {
            "cell_type": "markdown", 
            "source": "### Create Pipeline", 
            "metadata": {}
        }, 
        {
            "cell_type": "code", 
            "source": "#import Spark ML packages\nfrom pyspark.ml.feature import OneHotEncoder, StringIndexer, IndexToString, VectorAssembler\nfrom pyspark.ml.classification import RandomForestClassifier\nfrom pyspark.ml.evaluation import MulticlassClassificationEvaluator\nfrom pyspark.ml import Pipeline, Model\n", 
            "execution_count": 10, 
            "metadata": {}, 
            "outputs": []
        }, 
        {
            "cell_type": "code", 
            "source": "#converts string fields to numeric ones by using StringIndexer transformer\nsi_label = StringIndexer(inputCol=\"PRODUCT_LINE\", outputCol=\"label\").fit(df_data)\nsi_prof = StringIndexer(inputCol=\"PROFESSION\", outputCol=\"PROFESSION_I\")\nsi_gend = StringIndexer(inputCol=\"GENDER\", outputCol=\"GENDER_I\")\nsi_mar = StringIndexer(inputCol=\"MARITAL_STATUS\", outputCol=\"MARITAL_STATUS_I\")", 
            "execution_count": 11, 
            "metadata": {}, 
            "outputs": []
        }, 
        {
            "cell_type": "code", 
            "source": "#combines the features then craete a feature \nva_features = VectorAssembler(inputCols=[\"GENDER_I\", \"AGE\", \"MARITAL_STATUS_I\", \"PROFESSION_I\"], outputCol=\"features\")", 
            "execution_count": 12, 
            "metadata": {}, 
            "outputs": []
        }, 
        {
            "cell_type": "code", 
            "source": "#Random Forest defines estimators which are wanted to use for classification\nrf = RandomForestClassifier(labelCol=\"label\", featuresCol=\"features\")", 
            "execution_count": 13, 
            "metadata": {}, 
            "outputs": []
        }, 
        {
            "cell_type": "code", 
            "source": "#back to original(string) labels \nlabelConverter = IndexToString(inputCol=\"prediction\", outputCol=\"predictedLabel\", labels=si_label.labels)", 
            "execution_count": 14, 
            "metadata": {}, 
            "outputs": []
        }, 
        {
            "cell_type": "code", 
            "source": "pipeline_rf = Pipeline(stages=[si_label, si_prof, si_gend, si_mar, va_features, rf, labelConverter])", 
            "execution_count": 15, 
            "metadata": {}, 
            "outputs": []
        }, 
        {
            "cell_type": "code", 
            "source": "model_rf = pipeline_rf.fit(train_data)", 
            "execution_count": 16, 
            "metadata": {}, 
            "outputs": []
        }, 
        {
            "cell_type": "code", 
            "source": "#measures model accuracy\npredictions = model_rf.transform(test_data)\nevaluatorRF = MulticlassClassificationEvaluator(labelCol=\"label\", predictionCol=\"prediction\", metricName=\"accuracy\")\naccuracy = evaluatorRF.evaluate(predictions)\nprint(\"Accuracy = %g\" % accuracy)\nprint(\"Test Error = %g\" % (1.0 - accuracy))", 
            "execution_count": 25, 
            "metadata": {}, 
            "outputs": [
                {
                    "output_type": "stream", 
                    "text": "Accuracy = 0.590605\nTest Error = 0.409395\n", 
                    "name": "stdout"
                }
            ]
        }, 
        {
            "cell_type": "code", 
            "source": "predictions.show(5)", 
            "execution_count": 18, 
            "metadata": {}, 
            "outputs": [
                {
                    "output_type": "stream", 
                    "text": "+-----------------+------+---+--------------+-----------+-----+------------+--------+----------------+------------------+--------------------+--------------------+----------+--------------------+\n|     PRODUCT_LINE|GENDER|AGE|MARITAL_STATUS| PROFESSION|label|PROFESSION_I|GENDER_I|MARITAL_STATUS_I|          features|       rawPrediction|         probability|prediction|      predictedLabel|\n+-----------------+------+---+--------------+-----------+-----+------------+--------+----------------+------------------+--------------------+--------------------+----------+--------------------+\n|Camping Equipment|     F| 18|        Single|      Other|  0.0|         0.0|     1.0|             1.0|[1.0,18.0,1.0,0.0]|[5.21023104170881...|[0.26051155208544...|       1.0|Personal Accessories|\n|Camping Equipment|     F| 18|        Single|      Other|  0.0|         0.0|     1.0|             1.0|[1.0,18.0,1.0,0.0]|[5.21023104170881...|[0.26051155208544...|       1.0|Personal Accessories|\n|Camping Equipment|     F| 18|        Single|     Retail|  0.0|         7.0|     1.0|             1.0|[1.0,18.0,1.0,7.0]|[2.22900360549843...|[0.11145018027492...|       1.0|Personal Accessories|\n|Camping Equipment|     F| 18|        Single|     Retail|  0.0|         7.0|     1.0|             1.0|[1.0,18.0,1.0,7.0]|[2.22900360549843...|[0.11145018027492...|       1.0|Personal Accessories|\n|Camping Equipment|     F| 19|        Single|Hospitality|  0.0|         5.0|     1.0|             1.0|[1.0,19.0,1.0,5.0]|[13.6771958592779...|[0.68385979296389...|       0.0|   Camping Equipment|\n+-----------------+------+---+--------------+-----------+-----+------------+--------+----------------+------------------+--------------------+--------------------+----------+--------------------+\nonly showing top 5 rows\n\n", 
                    "name": "stdout"
                }
            ]
        }, 
        {
            "cell_type": "code", 
            "source": "predictions.select(\"predictedLabel\").groupBy(\"predictedLabel\").count().show()", 
            "execution_count": 19, 
            "metadata": {}, 
            "outputs": [
                {
                    "output_type": "stream", 
                    "text": "+--------------------+-----+\n|      predictedLabel|count|\n+--------------------+-----+\n|   Camping Equipment| 9599|\n|      Golf Equipment|  888|\n|Mountaineering Eq...| 1109|\n|Personal Accessories| 4711|\n+--------------------+-----+\n\n", 
                    "name": "stdout"
                }
            ]
        }, 
        {
            "cell_type": "code", 
            "source": "import sys\nimport pandas\nimport plotly.plotly as py\nfrom plotly.offline import download_plotlyjs, init_notebook_mode, plot, iplot\n\nimport plotly.graph_objs as go\ninit_notebook_mode(connected=True)\nsys.path.append(\"\".join([os.environ[\"HOME\"]])) ", 
            "execution_count": 29, 
            "metadata": {}, 
            "outputs": [
                {
                    "output_type": "display_data", 
                    "metadata": {}, 
                    "data": {
                        "text/html": "<script>requirejs.config({paths: { 'plotly': ['https://cdn.plot.ly/plotly-latest.min']},});if(!window.Plotly) {{require(['plotly'],function(plotly) {window.Plotly=plotly;});}}</script>", 
                        "text/vnd.plotly.v1+html": "<script>requirejs.config({paths: { 'plotly': ['https://cdn.plot.ly/plotly-latest.min']},});if(!window.Plotly) {{require(['plotly'],function(plotly) {window.Plotly=plotly;});}}</script>"
                    }
                }
            ]
        }, 
        {
            "cell_type": "code", 
            "source": "predictions_pdf = predictions.select(\"prediction\", \"predictedLabel\", \"GENDER\", \"AGE\", \"PROFESSION\", \"MARITAL_STATUS\").toPandas()", 
            "execution_count": 21, 
            "metadata": {}, 
            "outputs": []
        }, 
        {
            "cell_type": "code", 
            "source": "predictions_pdf", 
            "execution_count": 24, 
            "metadata": {}, 
            "outputs": [
                {
                    "output_type": "execute_result", 
                    "metadata": {}, 
                    "execution_count": 24, 
                    "data": {
                        "text/html": "<div>\n<table border=\"1\" class=\"dataframe\">\n  <thead>\n    <tr style=\"text-align: right;\">\n      <th></th>\n      <th>prediction</th>\n      <th>predictedLabel</th>\n      <th>GENDER</th>\n      <th>AGE</th>\n      <th>PROFESSION</th>\n      <th>MARITAL_STATUS</th>\n    </tr>\n  </thead>\n  <tbody>\n    <tr>\n      <th>0</th>\n      <td>1</td>\n      <td>Personal Accessories</td>\n      <td>F</td>\n      <td>18</td>\n      <td>Other</td>\n      <td>Single</td>\n    </tr>\n    <tr>\n      <th>1</th>\n      <td>1</td>\n      <td>Personal Accessories</td>\n      <td>F</td>\n      <td>18</td>\n      <td>Other</td>\n      <td>Single</td>\n    </tr>\n    <tr>\n      <th>2</th>\n      <td>1</td>\n      <td>Personal Accessories</td>\n      <td>F</td>\n      <td>18</td>\n      <td>Retail</td>\n      <td>Single</td>\n    </tr>\n    <tr>\n      <th>3</th>\n      <td>1</td>\n      <td>Personal Accessories</td>\n      <td>F</td>\n      <td>18</td>\n      <td>Retail</td>\n      <td>Single</td>\n    </tr>\n    <tr>\n      <th>4</th>\n      <td>0</td>\n      <td>Camping Equipment</td>\n      <td>F</td>\n      <td>19</td>\n      <td>Hospitality</td>\n      <td>Single</td>\n    </tr>\n    <tr>\n      <th>5</th>\n      <td>0</td>\n      <td>Camping Equipment</td>\n      <td>F</td>\n      <td>19</td>\n      <td>Hospitality</td>\n      <td>Single</td>\n    </tr>\n    <tr>\n      <th>6</th>\n      <td>0</td>\n      <td>Camping Equipment</td>\n      <td>F</td>\n      <td>19</td>\n      <td>Hospitality</td>\n      <td>Single</td>\n    </tr>\n    <tr>\n      <th>7</th>\n      <td>0</td>\n      <td>Camping Equipment</td>\n      <td>F</td>\n      <td>19</td>\n      <td>Hospitality</td>\n      <td>Single</td>\n    </tr>\n    <tr>\n      <th>8</th>\n      <td>0</td>\n      <td>Camping Equipment</td>\n      <td>F</td>\n      <td>19</td>\n      <td>Hospitality</td>\n      <td>Single</td>\n    </tr>\n    <tr>\n      <th>9</th>\n      <td>0</td>\n      <td>Camping Equipment</td>\n      <td>F</td>\n      <td>19</td>\n      <td>Hospitality</td>\n      <td>Single</td>\n    </tr>\n    <tr>\n      <th>10</th>\n      <td>0</td>\n      <td>Camping Equipment</td>\n      <td>F</td>\n      <td>19</td>\n      <td>Hospitality</td>\n      <td>Single</td>\n    </tr>\n    <tr>\n      <th>11</th>\n      <td>0</td>\n      <td>Camping Equipment</td>\n      <td>F</td>\n      <td>19</td>\n      <td>Hospitality</td>\n      <td>Single</td>\n    </tr>\n    <tr>\n      <th>12</th>\n      <td>0</td>\n      <td>Camping Equipment</td>\n      <td>F</td>\n      <td>19</td>\n      <td>Hospitality</td>\n      <td>Single</td>\n    </tr>\n    <tr>\n      <th>13</th>\n      <td>1</td>\n      <td>Personal Accessories</td>\n      <td>F</td>\n      <td>19</td>\n      <td>Other</td>\n      <td>Single</td>\n    </tr>\n    <tr>\n      <th>14</th>\n      <td>1</td>\n      <td>Personal Accessories</td>\n      <td>F</td>\n      <td>19</td>\n      <td>Other</td>\n      <td>Single</td>\n    </tr>\n    <tr>\n      <th>15</th>\n      <td>1</td>\n      <td>Personal Accessories</td>\n      <td>F</td>\n      <td>19</td>\n      <td>Other</td>\n      <td>Single</td>\n    </tr>\n    <tr>\n      <th>16</th>\n      <td>1</td>\n      <td>Personal Accessories</td>\n      <td>F</td>\n      <td>19</td>\n      <td>Other</td>\n      <td>Single</td>\n    </tr>\n    <tr>\n      <th>17</th>\n      <td>1</td>\n      <td>Personal Accessories</td>\n      <td>F</td>\n      <td>19</td>\n      <td>Other</td>\n      <td>Single</td>\n    </tr>\n    <tr>\n      <th>18</th>\n      <td>1</td>\n      <td>Personal Accessories</td>\n      <td>F</td>\n      <td>19</td>\n      <td>Other</td>\n      <td>Single</td>\n    </tr>\n    <tr>\n      <th>19</th>\n      <td>1</td>\n      <td>Personal Accessories</td>\n      <td>F</td>\n      <td>19</td>\n      <td>Other</td>\n      <td>Single</td>\n    </tr>\n    <tr>\n      <th>20</th>\n      <td>1</td>\n      <td>Personal Accessories</td>\n      <td>F</td>\n      <td>19</td>\n      <td>Other</td>\n      <td>Single</td>\n    </tr>\n    <tr>\n      <th>21</th>\n      <td>1</td>\n      <td>Personal Accessories</td>\n      <td>F</td>\n      <td>19</td>\n      <td>Other</td>\n      <td>Single</td>\n    </tr>\n    <tr>\n      <th>22</th>\n      <td>1</td>\n      <td>Personal Accessories</td>\n      <td>F</td>\n      <td>19</td>\n      <td>Other</td>\n      <td>Single</td>\n    </tr>\n    <tr>\n      <th>23</th>\n      <td>1</td>\n      <td>Personal Accessories</td>\n      <td>F</td>\n      <td>19</td>\n      <td>Other</td>\n      <td>Single</td>\n    </tr>\n    <tr>\n      <th>24</th>\n      <td>1</td>\n      <td>Personal Accessories</td>\n      <td>F</td>\n      <td>19</td>\n      <td>Other</td>\n      <td>Single</td>\n    </tr>\n    <tr>\n      <th>25</th>\n      <td>1</td>\n      <td>Personal Accessories</td>\n      <td>F</td>\n      <td>19</td>\n      <td>Other</td>\n      <td>Single</td>\n    </tr>\n    <tr>\n      <th>26</th>\n      <td>1</td>\n      <td>Personal Accessories</td>\n      <td>F</td>\n      <td>19</td>\n      <td>Other</td>\n      <td>Single</td>\n    </tr>\n    <tr>\n      <th>27</th>\n      <td>1</td>\n      <td>Personal Accessories</td>\n      <td>F</td>\n      <td>19</td>\n      <td>Other</td>\n      <td>Single</td>\n    </tr>\n    <tr>\n      <th>28</th>\n      <td>1</td>\n      <td>Personal Accessories</td>\n      <td>F</td>\n      <td>19</td>\n      <td>Other</td>\n      <td>Single</td>\n    </tr>\n    <tr>\n      <th>29</th>\n      <td>1</td>\n      <td>Personal Accessories</td>\n      <td>F</td>\n      <td>19</td>\n      <td>Other</td>\n      <td>Single</td>\n    </tr>\n    <tr>\n      <th>...</th>\n      <td>...</td>\n      <td>...</td>\n      <td>...</td>\n      <td>...</td>\n      <td>...</td>\n      <td>...</td>\n    </tr>\n    <tr>\n      <th>16277</th>\n      <td>3</td>\n      <td>Golf Equipment</td>\n      <td>M</td>\n      <td>55</td>\n      <td>Other</td>\n      <td>Married</td>\n    </tr>\n    <tr>\n      <th>16278</th>\n      <td>3</td>\n      <td>Golf Equipment</td>\n      <td>M</td>\n      <td>55</td>\n      <td>Professional</td>\n      <td>Married</td>\n    </tr>\n    <tr>\n      <th>16279</th>\n      <td>3</td>\n      <td>Golf Equipment</td>\n      <td>M</td>\n      <td>55</td>\n      <td>Other</td>\n      <td>Unspecified</td>\n    </tr>\n    <tr>\n      <th>16280</th>\n      <td>3</td>\n      <td>Golf Equipment</td>\n      <td>M</td>\n      <td>55</td>\n      <td>Other</td>\n      <td>Unspecified</td>\n    </tr>\n    <tr>\n      <th>16281</th>\n      <td>3</td>\n      <td>Golf Equipment</td>\n      <td>M</td>\n      <td>56</td>\n      <td>Other</td>\n      <td>Married</td>\n    </tr>\n    <tr>\n      <th>16282</th>\n      <td>3</td>\n      <td>Golf Equipment</td>\n      <td>M</td>\n      <td>56</td>\n      <td>Other</td>\n      <td>Married</td>\n    </tr>\n    <tr>\n      <th>16283</th>\n      <td>3</td>\n      <td>Golf Equipment</td>\n      <td>M</td>\n      <td>56</td>\n      <td>Other</td>\n      <td>Married</td>\n    </tr>\n    <tr>\n      <th>16284</th>\n      <td>3</td>\n      <td>Golf Equipment</td>\n      <td>M</td>\n      <td>56</td>\n      <td>Professional</td>\n      <td>Married</td>\n    </tr>\n    <tr>\n      <th>16285</th>\n      <td>3</td>\n      <td>Golf Equipment</td>\n      <td>M</td>\n      <td>56</td>\n      <td>Trades</td>\n      <td>Married</td>\n    </tr>\n    <tr>\n      <th>16286</th>\n      <td>3</td>\n      <td>Golf Equipment</td>\n      <td>M</td>\n      <td>56</td>\n      <td>Other</td>\n      <td>Unspecified</td>\n    </tr>\n    <tr>\n      <th>16287</th>\n      <td>3</td>\n      <td>Golf Equipment</td>\n      <td>M</td>\n      <td>56</td>\n      <td>Other</td>\n      <td>Unspecified</td>\n    </tr>\n    <tr>\n      <th>16288</th>\n      <td>3</td>\n      <td>Golf Equipment</td>\n      <td>M</td>\n      <td>56</td>\n      <td>Other</td>\n      <td>Unspecified</td>\n    </tr>\n    <tr>\n      <th>16289</th>\n      <td>3</td>\n      <td>Golf Equipment</td>\n      <td>M</td>\n      <td>57</td>\n      <td>Professional</td>\n      <td>Married</td>\n    </tr>\n    <tr>\n      <th>16290</th>\n      <td>3</td>\n      <td>Golf Equipment</td>\n      <td>M</td>\n      <td>57</td>\n      <td>Other</td>\n      <td>Unspecified</td>\n    </tr>\n    <tr>\n      <th>16291</th>\n      <td>3</td>\n      <td>Golf Equipment</td>\n      <td>M</td>\n      <td>58</td>\n      <td>Other</td>\n      <td>Married</td>\n    </tr>\n    <tr>\n      <th>16292</th>\n      <td>3</td>\n      <td>Golf Equipment</td>\n      <td>M</td>\n      <td>58</td>\n      <td>Other</td>\n      <td>Married</td>\n    </tr>\n    <tr>\n      <th>16293</th>\n      <td>3</td>\n      <td>Golf Equipment</td>\n      <td>M</td>\n      <td>58</td>\n      <td>Other</td>\n      <td>Married</td>\n    </tr>\n    <tr>\n      <th>16294</th>\n      <td>3</td>\n      <td>Golf Equipment</td>\n      <td>M</td>\n      <td>58</td>\n      <td>Other</td>\n      <td>Married</td>\n    </tr>\n    <tr>\n      <th>16295</th>\n      <td>3</td>\n      <td>Golf Equipment</td>\n      <td>M</td>\n      <td>58</td>\n      <td>Other</td>\n      <td>Married</td>\n    </tr>\n    <tr>\n      <th>16296</th>\n      <td>3</td>\n      <td>Golf Equipment</td>\n      <td>M</td>\n      <td>58</td>\n      <td>Professional</td>\n      <td>Married</td>\n    </tr>\n    <tr>\n      <th>16297</th>\n      <td>3</td>\n      <td>Golf Equipment</td>\n      <td>M</td>\n      <td>58</td>\n      <td>Trades</td>\n      <td>Married</td>\n    </tr>\n    <tr>\n      <th>16298</th>\n      <td>3</td>\n      <td>Golf Equipment</td>\n      <td>M</td>\n      <td>58</td>\n      <td>Other</td>\n      <td>Unspecified</td>\n    </tr>\n    <tr>\n      <th>16299</th>\n      <td>3</td>\n      <td>Golf Equipment</td>\n      <td>M</td>\n      <td>58</td>\n      <td>Other</td>\n      <td>Unspecified</td>\n    </tr>\n    <tr>\n      <th>16300</th>\n      <td>3</td>\n      <td>Golf Equipment</td>\n      <td>M</td>\n      <td>59</td>\n      <td>Other</td>\n      <td>Married</td>\n    </tr>\n    <tr>\n      <th>16301</th>\n      <td>3</td>\n      <td>Golf Equipment</td>\n      <td>M</td>\n      <td>59</td>\n      <td>Other</td>\n      <td>Married</td>\n    </tr>\n    <tr>\n      <th>16302</th>\n      <td>3</td>\n      <td>Golf Equipment</td>\n      <td>M</td>\n      <td>59</td>\n      <td>Professional</td>\n      <td>Married</td>\n    </tr>\n    <tr>\n      <th>16303</th>\n      <td>3</td>\n      <td>Golf Equipment</td>\n      <td>M</td>\n      <td>59</td>\n      <td>Professional</td>\n      <td>Married</td>\n    </tr>\n    <tr>\n      <th>16304</th>\n      <td>3</td>\n      <td>Golf Equipment</td>\n      <td>M</td>\n      <td>59</td>\n      <td>Professional</td>\n      <td>Married</td>\n    </tr>\n    <tr>\n      <th>16305</th>\n      <td>3</td>\n      <td>Golf Equipment</td>\n      <td>M</td>\n      <td>59</td>\n      <td>Trades</td>\n      <td>Married</td>\n    </tr>\n    <tr>\n      <th>16306</th>\n      <td>3</td>\n      <td>Golf Equipment</td>\n      <td>M</td>\n      <td>59</td>\n      <td>Trades</td>\n      <td>Married</td>\n    </tr>\n  </tbody>\n</table>\n<p>16307 rows \u00d7 6 columns</p>\n</div>", 
                        "text/plain": "       prediction        predictedLabel GENDER  AGE    PROFESSION  \\\n0               1  Personal Accessories      F   18         Other   \n1               1  Personal Accessories      F   18         Other   \n2               1  Personal Accessories      F   18        Retail   \n3               1  Personal Accessories      F   18        Retail   \n4               0     Camping Equipment      F   19   Hospitality   \n5               0     Camping Equipment      F   19   Hospitality   \n6               0     Camping Equipment      F   19   Hospitality   \n7               0     Camping Equipment      F   19   Hospitality   \n8               0     Camping Equipment      F   19   Hospitality   \n9               0     Camping Equipment      F   19   Hospitality   \n10              0     Camping Equipment      F   19   Hospitality   \n11              0     Camping Equipment      F   19   Hospitality   \n12              0     Camping Equipment      F   19   Hospitality   \n13              1  Personal Accessories      F   19         Other   \n14              1  Personal Accessories      F   19         Other   \n15              1  Personal Accessories      F   19         Other   \n16              1  Personal Accessories      F   19         Other   \n17              1  Personal Accessories      F   19         Other   \n18              1  Personal Accessories      F   19         Other   \n19              1  Personal Accessories      F   19         Other   \n20              1  Personal Accessories      F   19         Other   \n21              1  Personal Accessories      F   19         Other   \n22              1  Personal Accessories      F   19         Other   \n23              1  Personal Accessories      F   19         Other   \n24              1  Personal Accessories      F   19         Other   \n25              1  Personal Accessories      F   19         Other   \n26              1  Personal Accessories      F   19         Other   \n27              1  Personal Accessories      F   19         Other   \n28              1  Personal Accessories      F   19         Other   \n29              1  Personal Accessories      F   19         Other   \n...           ...                   ...    ...  ...           ...   \n16277           3        Golf Equipment      M   55         Other   \n16278           3        Golf Equipment      M   55  Professional   \n16279           3        Golf Equipment      M   55         Other   \n16280           3        Golf Equipment      M   55         Other   \n16281           3        Golf Equipment      M   56         Other   \n16282           3        Golf Equipment      M   56         Other   \n16283           3        Golf Equipment      M   56         Other   \n16284           3        Golf Equipment      M   56  Professional   \n16285           3        Golf Equipment      M   56        Trades   \n16286           3        Golf Equipment      M   56         Other   \n16287           3        Golf Equipment      M   56         Other   \n16288           3        Golf Equipment      M   56         Other   \n16289           3        Golf Equipment      M   57  Professional   \n16290           3        Golf Equipment      M   57         Other   \n16291           3        Golf Equipment      M   58         Other   \n16292           3        Golf Equipment      M   58         Other   \n16293           3        Golf Equipment      M   58         Other   \n16294           3        Golf Equipment      M   58         Other   \n16295           3        Golf Equipment      M   58         Other   \n16296           3        Golf Equipment      M   58  Professional   \n16297           3        Golf Equipment      M   58        Trades   \n16298           3        Golf Equipment      M   58         Other   \n16299           3        Golf Equipment      M   58         Other   \n16300           3        Golf Equipment      M   59         Other   \n16301           3        Golf Equipment      M   59         Other   \n16302           3        Golf Equipment      M   59  Professional   \n16303           3        Golf Equipment      M   59  Professional   \n16304           3        Golf Equipment      M   59  Professional   \n16305           3        Golf Equipment      M   59        Trades   \n16306           3        Golf Equipment      M   59        Trades   \n\n      MARITAL_STATUS  \n0             Single  \n1             Single  \n2             Single  \n3             Single  \n4             Single  \n5             Single  \n6             Single  \n7             Single  \n8             Single  \n9             Single  \n10            Single  \n11            Single  \n12            Single  \n13            Single  \n14            Single  \n15            Single  \n16            Single  \n17            Single  \n18            Single  \n19            Single  \n20            Single  \n21            Single  \n22            Single  \n23            Single  \n24            Single  \n25            Single  \n26            Single  \n27            Single  \n28            Single  \n29            Single  \n...              ...  \n16277        Married  \n16278        Married  \n16279    Unspecified  \n16280    Unspecified  \n16281        Married  \n16282        Married  \n16283        Married  \n16284        Married  \n16285        Married  \n16286    Unspecified  \n16287    Unspecified  \n16288    Unspecified  \n16289        Married  \n16290    Unspecified  \n16291        Married  \n16292        Married  \n16293        Married  \n16294        Married  \n16295        Married  \n16296        Married  \n16297        Married  \n16298    Unspecified  \n16299    Unspecified  \n16300        Married  \n16301        Married  \n16302        Married  \n16303        Married  \n16304        Married  \n16305        Married  \n16306        Married  \n\n[16307 rows x 6 columns]"
                    }
                }
            ]
        }, 
        
        {
            "cell_type": "code", 
            "source": "", 
            "execution_count": null, 
            "metadata": {}, 
            "outputs": []
        }
    ], 
    "nbformat_minor": 1, 
    "metadata": {
        "kernelspec": {
            "language": "python", 
            "name": "python2-spark20", 
            "display_name": "Python 2 with Spark 2.0"
        }, 
        "language_info": {
            "pygments_lexer": "ipython2", 
            "nbconvert_exporter": "python", 
            "mimetype": "text/x-python", 
            "name": "python", 
            "version": "2.7.11", 
            "file_extension": ".py", 
            "codemirror_mode": {
                "version": 2, 
                "name": "ipython"
            }
        }
    }, 
    "nbformat": 4
}
